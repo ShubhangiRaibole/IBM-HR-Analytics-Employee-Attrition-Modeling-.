{
 "cells": [
  {
   "cell_type": "code",
   "execution_count": 102,
   "id": "2fd9f20b",
   "metadata": {},
   "outputs": [],
   "source": [
    "import pandas as pd\n",
    "import numpy as np\n",
    "import matplotlib.pyplot as plt\n",
    "import seaborn as sns\n",
    "from matplotlib import style\n",
    "%matplotlib inline\n",
    "import sklearn\n",
    "import tensorflow as tf"
   ]
  },
  {
   "cell_type": "code",
   "execution_count": 103,
   "id": "bd7edbdb",
   "metadata": {},
   "outputs": [],
   "source": [
    "df = pd.read_csv('C:/Users/SHUBHANGI/Downloads/1576148666_ibmattritiondata/IBM Attrition Data.csv')"
   ]
  },
  {
   "cell_type": "code",
   "execution_count": 9,
   "id": "c9cbb622",
   "metadata": {},
   "outputs": [
    {
     "data": {
      "text/html": [
       "<div>\n",
       "<style scoped>\n",
       "    .dataframe tbody tr th:only-of-type {\n",
       "        vertical-align: middle;\n",
       "    }\n",
       "\n",
       "    .dataframe tbody tr th {\n",
       "        vertical-align: top;\n",
       "    }\n",
       "\n",
       "    .dataframe thead th {\n",
       "        text-align: right;\n",
       "    }\n",
       "</style>\n",
       "<table border=\"1\" class=\"dataframe\">\n",
       "  <thead>\n",
       "    <tr style=\"text-align: right;\">\n",
       "      <th></th>\n",
       "      <th>Age</th>\n",
       "      <th>Attrition</th>\n",
       "      <th>Department</th>\n",
       "      <th>DistanceFromHome</th>\n",
       "      <th>Education</th>\n",
       "      <th>EducationField</th>\n",
       "      <th>EnvironmentSatisfaction</th>\n",
       "      <th>JobSatisfaction</th>\n",
       "      <th>MaritalStatus</th>\n",
       "      <th>MonthlyIncome</th>\n",
       "      <th>NumCompaniesWorked</th>\n",
       "      <th>WorkLifeBalance</th>\n",
       "      <th>YearsAtCompany</th>\n",
       "    </tr>\n",
       "  </thead>\n",
       "  <tbody>\n",
       "    <tr>\n",
       "      <th>0</th>\n",
       "      <td>41</td>\n",
       "      <td>Yes</td>\n",
       "      <td>Sales</td>\n",
       "      <td>1</td>\n",
       "      <td>2</td>\n",
       "      <td>Life Sciences</td>\n",
       "      <td>2</td>\n",
       "      <td>4</td>\n",
       "      <td>Single</td>\n",
       "      <td>5993</td>\n",
       "      <td>8</td>\n",
       "      <td>1</td>\n",
       "      <td>6</td>\n",
       "    </tr>\n",
       "    <tr>\n",
       "      <th>1</th>\n",
       "      <td>49</td>\n",
       "      <td>No</td>\n",
       "      <td>Research &amp; Development</td>\n",
       "      <td>8</td>\n",
       "      <td>1</td>\n",
       "      <td>Life Sciences</td>\n",
       "      <td>3</td>\n",
       "      <td>2</td>\n",
       "      <td>Married</td>\n",
       "      <td>5130</td>\n",
       "      <td>1</td>\n",
       "      <td>3</td>\n",
       "      <td>10</td>\n",
       "    </tr>\n",
       "    <tr>\n",
       "      <th>2</th>\n",
       "      <td>37</td>\n",
       "      <td>Yes</td>\n",
       "      <td>Research &amp; Development</td>\n",
       "      <td>2</td>\n",
       "      <td>2</td>\n",
       "      <td>Other</td>\n",
       "      <td>4</td>\n",
       "      <td>3</td>\n",
       "      <td>Single</td>\n",
       "      <td>2090</td>\n",
       "      <td>6</td>\n",
       "      <td>3</td>\n",
       "      <td>0</td>\n",
       "    </tr>\n",
       "    <tr>\n",
       "      <th>3</th>\n",
       "      <td>33</td>\n",
       "      <td>No</td>\n",
       "      <td>Research &amp; Development</td>\n",
       "      <td>3</td>\n",
       "      <td>4</td>\n",
       "      <td>Life Sciences</td>\n",
       "      <td>4</td>\n",
       "      <td>3</td>\n",
       "      <td>Married</td>\n",
       "      <td>2909</td>\n",
       "      <td>1</td>\n",
       "      <td>3</td>\n",
       "      <td>8</td>\n",
       "    </tr>\n",
       "    <tr>\n",
       "      <th>4</th>\n",
       "      <td>27</td>\n",
       "      <td>No</td>\n",
       "      <td>Research &amp; Development</td>\n",
       "      <td>2</td>\n",
       "      <td>1</td>\n",
       "      <td>Medical</td>\n",
       "      <td>1</td>\n",
       "      <td>2</td>\n",
       "      <td>Married</td>\n",
       "      <td>3468</td>\n",
       "      <td>9</td>\n",
       "      <td>3</td>\n",
       "      <td>2</td>\n",
       "    </tr>\n",
       "  </tbody>\n",
       "</table>\n",
       "</div>"
      ],
      "text/plain": [
       "   Age Attrition              Department  DistanceFromHome  Education  \\\n",
       "0   41       Yes                   Sales                 1          2   \n",
       "1   49        No  Research & Development                 8          1   \n",
       "2   37       Yes  Research & Development                 2          2   \n",
       "3   33        No  Research & Development                 3          4   \n",
       "4   27        No  Research & Development                 2          1   \n",
       "\n",
       "  EducationField  EnvironmentSatisfaction  JobSatisfaction MaritalStatus  \\\n",
       "0  Life Sciences                        2                4        Single   \n",
       "1  Life Sciences                        3                2       Married   \n",
       "2          Other                        4                3        Single   \n",
       "3  Life Sciences                        4                3       Married   \n",
       "4        Medical                        1                2       Married   \n",
       "\n",
       "   MonthlyIncome  NumCompaniesWorked  WorkLifeBalance  YearsAtCompany  \n",
       "0           5993                   8                1               6  \n",
       "1           5130                   1                3              10  \n",
       "2           2090                   6                3               0  \n",
       "3           2909                   1                3               8  \n",
       "4           3468                   9                3               2  "
      ]
     },
     "execution_count": 9,
     "metadata": {},
     "output_type": "execute_result"
    }
   ],
   "source": [
    "df.head()"
   ]
  },
  {
   "cell_type": "code",
   "execution_count": 14,
   "id": "8f749971",
   "metadata": {},
   "outputs": [
    {
     "data": {
      "text/html": [
       "<div>\n",
       "<style scoped>\n",
       "    .dataframe tbody tr th:only-of-type {\n",
       "        vertical-align: middle;\n",
       "    }\n",
       "\n",
       "    .dataframe tbody tr th {\n",
       "        vertical-align: top;\n",
       "    }\n",
       "\n",
       "    .dataframe thead th {\n",
       "        text-align: right;\n",
       "    }\n",
       "</style>\n",
       "<table border=\"1\" class=\"dataframe\">\n",
       "  <thead>\n",
       "    <tr style=\"text-align: right;\">\n",
       "      <th></th>\n",
       "      <th>Age</th>\n",
       "      <th>DistanceFromHome</th>\n",
       "      <th>Education</th>\n",
       "      <th>EnvironmentSatisfaction</th>\n",
       "      <th>JobSatisfaction</th>\n",
       "      <th>MonthlyIncome</th>\n",
       "      <th>NumCompaniesWorked</th>\n",
       "      <th>WorkLifeBalance</th>\n",
       "      <th>YearsAtCompany</th>\n",
       "    </tr>\n",
       "  </thead>\n",
       "  <tbody>\n",
       "    <tr>\n",
       "      <th>count</th>\n",
       "      <td>1470.000000</td>\n",
       "      <td>1470.000000</td>\n",
       "      <td>1470.000000</td>\n",
       "      <td>1470.000000</td>\n",
       "      <td>1470.000000</td>\n",
       "      <td>1470.000000</td>\n",
       "      <td>1470.000000</td>\n",
       "      <td>1470.000000</td>\n",
       "      <td>1470.000000</td>\n",
       "    </tr>\n",
       "    <tr>\n",
       "      <th>mean</th>\n",
       "      <td>36.923810</td>\n",
       "      <td>9.192517</td>\n",
       "      <td>2.912925</td>\n",
       "      <td>2.721769</td>\n",
       "      <td>2.728571</td>\n",
       "      <td>6502.931293</td>\n",
       "      <td>2.693197</td>\n",
       "      <td>2.761224</td>\n",
       "      <td>7.008163</td>\n",
       "    </tr>\n",
       "    <tr>\n",
       "      <th>std</th>\n",
       "      <td>9.135373</td>\n",
       "      <td>8.106864</td>\n",
       "      <td>1.024165</td>\n",
       "      <td>1.093082</td>\n",
       "      <td>1.102846</td>\n",
       "      <td>4707.956783</td>\n",
       "      <td>2.498009</td>\n",
       "      <td>0.706476</td>\n",
       "      <td>6.126525</td>\n",
       "    </tr>\n",
       "    <tr>\n",
       "      <th>min</th>\n",
       "      <td>18.000000</td>\n",
       "      <td>1.000000</td>\n",
       "      <td>1.000000</td>\n",
       "      <td>1.000000</td>\n",
       "      <td>1.000000</td>\n",
       "      <td>1009.000000</td>\n",
       "      <td>0.000000</td>\n",
       "      <td>1.000000</td>\n",
       "      <td>0.000000</td>\n",
       "    </tr>\n",
       "    <tr>\n",
       "      <th>25%</th>\n",
       "      <td>30.000000</td>\n",
       "      <td>2.000000</td>\n",
       "      <td>2.000000</td>\n",
       "      <td>2.000000</td>\n",
       "      <td>2.000000</td>\n",
       "      <td>2911.000000</td>\n",
       "      <td>1.000000</td>\n",
       "      <td>2.000000</td>\n",
       "      <td>3.000000</td>\n",
       "    </tr>\n",
       "    <tr>\n",
       "      <th>50%</th>\n",
       "      <td>36.000000</td>\n",
       "      <td>7.000000</td>\n",
       "      <td>3.000000</td>\n",
       "      <td>3.000000</td>\n",
       "      <td>3.000000</td>\n",
       "      <td>4919.000000</td>\n",
       "      <td>2.000000</td>\n",
       "      <td>3.000000</td>\n",
       "      <td>5.000000</td>\n",
       "    </tr>\n",
       "    <tr>\n",
       "      <th>75%</th>\n",
       "      <td>43.000000</td>\n",
       "      <td>14.000000</td>\n",
       "      <td>4.000000</td>\n",
       "      <td>4.000000</td>\n",
       "      <td>4.000000</td>\n",
       "      <td>8379.000000</td>\n",
       "      <td>4.000000</td>\n",
       "      <td>3.000000</td>\n",
       "      <td>9.000000</td>\n",
       "    </tr>\n",
       "    <tr>\n",
       "      <th>max</th>\n",
       "      <td>60.000000</td>\n",
       "      <td>29.000000</td>\n",
       "      <td>5.000000</td>\n",
       "      <td>4.000000</td>\n",
       "      <td>4.000000</td>\n",
       "      <td>19999.000000</td>\n",
       "      <td>9.000000</td>\n",
       "      <td>4.000000</td>\n",
       "      <td>40.000000</td>\n",
       "    </tr>\n",
       "  </tbody>\n",
       "</table>\n",
       "</div>"
      ],
      "text/plain": [
       "               Age  DistanceFromHome    Education  EnvironmentSatisfaction  \\\n",
       "count  1470.000000       1470.000000  1470.000000              1470.000000   \n",
       "mean     36.923810          9.192517     2.912925                 2.721769   \n",
       "std       9.135373          8.106864     1.024165                 1.093082   \n",
       "min      18.000000          1.000000     1.000000                 1.000000   \n",
       "25%      30.000000          2.000000     2.000000                 2.000000   \n",
       "50%      36.000000          7.000000     3.000000                 3.000000   \n",
       "75%      43.000000         14.000000     4.000000                 4.000000   \n",
       "max      60.000000         29.000000     5.000000                 4.000000   \n",
       "\n",
       "       JobSatisfaction  MonthlyIncome  NumCompaniesWorked  WorkLifeBalance  \\\n",
       "count      1470.000000    1470.000000         1470.000000      1470.000000   \n",
       "mean          2.728571    6502.931293            2.693197         2.761224   \n",
       "std           1.102846    4707.956783            2.498009         0.706476   \n",
       "min           1.000000    1009.000000            0.000000         1.000000   \n",
       "25%           2.000000    2911.000000            1.000000         2.000000   \n",
       "50%           3.000000    4919.000000            2.000000         3.000000   \n",
       "75%           4.000000    8379.000000            4.000000         3.000000   \n",
       "max           4.000000   19999.000000            9.000000         4.000000   \n",
       "\n",
       "       YearsAtCompany  \n",
       "count     1470.000000  \n",
       "mean         7.008163  \n",
       "std          6.126525  \n",
       "min          0.000000  \n",
       "25%          3.000000  \n",
       "50%          5.000000  \n",
       "75%          9.000000  \n",
       "max         40.000000  "
      ]
     },
     "execution_count": 14,
     "metadata": {},
     "output_type": "execute_result"
    }
   ],
   "source": [
    "df.describe()"
   ]
  },
  {
   "cell_type": "code",
   "execution_count": 48,
   "id": "08dad346",
   "metadata": {},
   "outputs": [
    {
     "data": {
      "text/plain": [
       "(1470, 13)"
      ]
     },
     "execution_count": 48,
     "metadata": {},
     "output_type": "execute_result"
    }
   ],
   "source": [
    "df.shape"
   ]
  },
  {
   "cell_type": "code",
   "execution_count": 50,
   "id": "265d2696",
   "metadata": {},
   "outputs": [
    {
     "data": {
      "text/plain": [
       "Index(['Age', 'Attrition', 'Department', 'DistanceFromHome', 'Education',\n",
       "       'EducationField', 'EnvironmentSatisfaction', 'JobSatisfaction',\n",
       "       'MaritalStatus', 'MonthlyIncome', 'NumCompaniesWorked',\n",
       "       'WorkLifeBalance', 'YearsAtCompany'],\n",
       "      dtype='object')"
      ]
     },
     "execution_count": 50,
     "metadata": {},
     "output_type": "execute_result"
    }
   ],
   "source": [
    "df.columns"
   ]
  },
  {
   "cell_type": "code",
   "execution_count": 12,
   "id": "e7f732e2",
   "metadata": {},
   "outputs": [
    {
     "data": {
      "text/plain": [
       "0       41\n",
       "1       49\n",
       "2       37\n",
       "3       33\n",
       "4       27\n",
       "        ..\n",
       "1465    36\n",
       "1466    39\n",
       "1467    27\n",
       "1468    49\n",
       "1469    34\n",
       "Name: Age, Length: 1470, dtype: int64"
      ]
     },
     "execution_count": 12,
     "metadata": {},
     "output_type": "execute_result"
    }
   ],
   "source": [
    "df['Age']"
   ]
  },
  {
   "cell_type": "code",
   "execution_count": 54,
   "id": "1410fb2b",
   "metadata": {
    "scrolled": true
   },
   "outputs": [
    {
     "ename": "AttributeError",
     "evalue": "module 'matplotlib.pyplot' has no attribute 'ylable'",
     "output_type": "error",
     "traceback": [
      "\u001b[1;31m---------------------------------------------------------------------------\u001b[0m",
      "\u001b[1;31mAttributeError\u001b[0m                            Traceback (most recent call last)",
      "\u001b[1;32mC:\\Windows\\TEMP/ipykernel_61520/3265198300.py\u001b[0m in \u001b[0;36m<module>\u001b[1;34m\u001b[0m\n\u001b[0;32m      3\u001b[0m \u001b[0mplt\u001b[0m\u001b[1;33m.\u001b[0m\u001b[0mtitle\u001b[0m\u001b[1;33m(\u001b[0m\u001b[1;34m\"Age distribution o Employees\"\u001b[0m\u001b[1;33m)\u001b[0m\u001b[1;33m\u001b[0m\u001b[1;33m\u001b[0m\u001b[0m\n\u001b[0;32m      4\u001b[0m \u001b[0mplt\u001b[0m\u001b[1;33m.\u001b[0m\u001b[0mxlabel\u001b[0m\u001b[1;33m(\u001b[0m\u001b[1;34m\"Age\"\u001b[0m\u001b[1;33m)\u001b[0m\u001b[1;33m\u001b[0m\u001b[1;33m\u001b[0m\u001b[0m\n\u001b[1;32m----> 5\u001b[1;33m \u001b[0mplt\u001b[0m\u001b[1;33m.\u001b[0m\u001b[0mylable\u001b[0m\u001b[1;33m(\u001b[0m\u001b[1;34m\" Attrition\"\u001b[0m\u001b[1;33m)\u001b[0m\u001b[1;33m\u001b[0m\u001b[1;33m\u001b[0m\u001b[0m\n\u001b[0m\u001b[0;32m      6\u001b[0m \u001b[0mplt\u001b[0m\u001b[1;33m.\u001b[0m\u001b[0mshow\u001b[0m\u001b[1;33m(\u001b[0m\u001b[1;33m)\u001b[0m\u001b[1;33m\u001b[0m\u001b[1;33m\u001b[0m\u001b[0m\n",
      "\u001b[1;31mAttributeError\u001b[0m: module 'matplotlib.pyplot' has no attribute 'ylable'"
     ]
    },
    {
     "data": {
      "image/png": "[encoded data removed]",
      "text/plain": [
       "<Figure size 864x576 with 1 Axes>"
      ]
     },
     "metadata": {
      "needs_background": "light"
     },
     "output_type": "display_data"
    }
   ],
   "source": [
    "plt.figure(figsize=(12,8))\n",
    "df['Age'].hist(bins= 70)\n",
    "plt.title(\"Age distribution o Employees\")\n",
    "plt.xlabel(\"Age\")\n",
    "plt.ylable(\" Attrition\")\n",
    "plt.show()"
   ]
  },
  {
   "cell_type": "code",
   "execution_count": 55,
   "id": "85a4fd03",
   "metadata": {},
   "outputs": [
    {
     "data": {
      "image/png": "[encoded data removed]",
      "text/plain": [
       "<Figure size 1008x720 with 1 Axes>"
      ]
     },
     "metadata": {
      "needs_background": "light"
     },
     "output_type": "display_data"
    }
   ],
   "source": [
    "# explore data fie Attrition by Age\n",
    "plt.figure(figsize=(14,10))\n",
    "plt.scatter(df.Attrition,df.Age,alpha =.55)\n",
    "plt.title(\"Attrition by Age\")\n",
    "plt.ylabel(\"Age\")\n",
    "plt.grid(b=True, which= 'major',axis ='y')\n",
    "plt.show()"
   ]
  },
  {
   "cell_type": "code",
   "execution_count": 56,
   "id": "7a6cac16",
   "metadata": {},
   "outputs": [
    {
     "data": {
      "image/png": "[encoded data removed]",
      "text/plain": [
       "<Figure size 864x720 with 1 Axes>"
      ]
     },
     "metadata": {
      "needs_background": "light"
     },
     "output_type": "display_data"
    }
   ],
   "source": [
    "#explore data for education field distribution\n",
    "plt.figure(figsize=(12,10))\n",
    "df.EducationField.value_counts().plot(kind='barh',color ='g',alpha=.65)\n",
    "plt.title(\"Education Field Distributioin\")\n",
    "plt.show()"
   ]
  },
  {
   "cell_type": "code",
   "execution_count": 58,
   "id": "0dd7f8b9",
   "metadata": {},
   "outputs": [
    {
     "data": {
      "image/png": "[encoded data removed]",
      "text/plain": [
       "<Figure size 576x432 with 1 Axes>"
      ]
     },
     "metadata": {
      "needs_background": "light"
     },
     "output_type": "display_data"
    }
   ],
   "source": [
    "#explore data for Marital Status\n",
    "plt.figure(figsize=(8,6))\n",
    "df.MaritalStatus.value_counts().plot(kind='bar',alpha =.5)\n",
    "plt.show()"
   ]
  },
  {
   "cell_type": "code",
   "execution_count": 59,
   "id": "52c39772",
   "metadata": {},
   "outputs": [
    {
     "name": "stdout",
     "output_type": "stream",
     "text": [
      "<class 'pandas.core.frame.DataFrame'>\n",
      "RangeIndex: 1470 entries, 0 to 1469\n",
      "Data columns (total 13 columns):\n",
      " #   Column                   Non-Null Count  Dtype \n",
      "---  ------                   --------------  ----- \n",
      " 0   Age                      1470 non-null   int64 \n",
      " 1   Attrition                1470 non-null   object\n",
      " 2   Department               1470 non-null   object\n",
      " 3   DistanceFromHome         1470 non-null   int64 \n",
      " 4   Education                1470 non-null   int64 \n",
      " 5   EducationField           1470 non-null   object\n",
      " 6   EnvironmentSatisfaction  1470 non-null   int64 \n",
      " 7   JobSatisfaction          1470 non-null   int64 \n",
      " 8   MaritalStatus            1470 non-null   object\n",
      " 9   MonthlyIncome            1470 non-null   int64 \n",
      " 10  NumCompaniesWorked       1470 non-null   int64 \n",
      " 11  WorkLifeBalance          1470 non-null   int64 \n",
      " 12  YearsAtCompany           1470 non-null   int64 \n",
      "dtypes: int64(9), object(4)\n",
      "memory usage: 149.4+ KB\n"
     ]
    }
   ],
   "source": [
    "df.info()"
   ]
  },
  {
   "cell_type": "code",
   "execution_count": 60,
   "id": "ee172538",
   "metadata": {},
   "outputs": [
    {
     "name": "stderr",
     "output_type": "stream",
     "text": [
      "C:\\Windows\\TEMP/ipykernel_61520/3390915376.py:1: FutureWarning: Dropping of nuisance columns in DataFrame reductions (with 'numeric_only=None') is deprecated; in a future version this will raise TypeError.  Select only valid columns before calling the reduction.\n",
      "  df.std()\n"
     ]
    },
    {
     "data": {
      "text/plain": [
       "Age                           9.135373\n",
       "DistanceFromHome              8.106864\n",
       "Education                     1.024165\n",
       "EnvironmentSatisfaction       1.093082\n",
       "JobSatisfaction               1.102846\n",
       "MonthlyIncome              4707.956783\n",
       "NumCompaniesWorked            2.498009\n",
       "WorkLifeBalance               0.706476\n",
       "YearsAtCompany                6.126525\n",
       "dtype: float64"
      ]
     },
     "execution_count": 60,
     "metadata": {},
     "output_type": "execute_result"
    }
   ],
   "source": [
    "df.std()"
   ]
  },
  {
   "cell_type": "code",
   "execution_count": 61,
   "id": "ed5556db",
   "metadata": {},
   "outputs": [
    {
     "data": {
      "text/plain": [
       "No     1233\n",
       "Yes     237\n",
       "Name: Attrition, dtype: int64"
      ]
     },
     "execution_count": 61,
     "metadata": {},
     "output_type": "execute_result"
    }
   ],
   "source": [
    "df['Attrition'].value_counts()"
   ]
  },
  {
   "cell_type": "code",
   "execution_count": 62,
   "id": "099c90aa",
   "metadata": {},
   "outputs": [
    {
     "data": {
      "text/plain": [
       "dtype('O')"
      ]
     },
     "execution_count": 62,
     "metadata": {},
     "output_type": "execute_result"
    }
   ],
   "source": [
    "df['Attrition'].dtypes"
   ]
  },
  {
   "cell_type": "code",
   "execution_count": 104,
   "id": "a5b98195",
   "metadata": {},
   "outputs": [],
   "source": [
    "df['Attrition'].replace('Yes',1, inplace=True)\n",
    "df['Attrition'].replace('No',0, inplace=True)"
   ]
  },
  {
   "cell_type": "code",
   "execution_count": 87,
   "id": "b1d37565",
   "metadata": {},
   "outputs": [
    {
     "data": {
      "text/html": [
       "<div>\n",
       "<style scoped>\n",
       "    .dataframe tbody tr th:only-of-type {\n",
       "        vertical-align: middle;\n",
       "    }\n",
       "\n",
       "    .dataframe tbody tr th {\n",
       "        vertical-align: top;\n",
       "    }\n",
       "\n",
       "    .dataframe thead th {\n",
       "        text-align: right;\n",
       "    }\n",
       "</style>\n",
       "<table border=\"1\" class=\"dataframe\">\n",
       "  <thead>\n",
       "    <tr style=\"text-align: right;\">\n",
       "      <th></th>\n",
       "      <th>Age</th>\n",
       "      <th>Attrition</th>\n",
       "      <th>Department</th>\n",
       "      <th>DistanceFromHome</th>\n",
       "      <th>Education</th>\n",
       "      <th>EducationField</th>\n",
       "      <th>EnvironmentSatisfaction</th>\n",
       "      <th>JobSatisfaction</th>\n",
       "      <th>MaritalStatus</th>\n",
       "      <th>MonthlyIncome</th>\n",
       "      <th>NumCompaniesWorked</th>\n",
       "      <th>WorkLifeBalance</th>\n",
       "      <th>YearsAtCompany</th>\n",
       "    </tr>\n",
       "  </thead>\n",
       "  <tbody>\n",
       "    <tr>\n",
       "      <th>0</th>\n",
       "      <td>41</td>\n",
       "      <td>1</td>\n",
       "      <td>Sales</td>\n",
       "      <td>1</td>\n",
       "      <td>2</td>\n",
       "      <td>Life Sciences</td>\n",
       "      <td>2</td>\n",
       "      <td>4</td>\n",
       "      <td>Single</td>\n",
       "      <td>5993</td>\n",
       "      <td>8</td>\n",
       "      <td>1</td>\n",
       "      <td>6</td>\n",
       "    </tr>\n",
       "    <tr>\n",
       "      <th>1</th>\n",
       "      <td>49</td>\n",
       "      <td>0</td>\n",
       "      <td>Research &amp; Development</td>\n",
       "      <td>8</td>\n",
       "      <td>1</td>\n",
       "      <td>Life Sciences</td>\n",
       "      <td>3</td>\n",
       "      <td>2</td>\n",
       "      <td>Married</td>\n",
       "      <td>5130</td>\n",
       "      <td>1</td>\n",
       "      <td>3</td>\n",
       "      <td>10</td>\n",
       "    </tr>\n",
       "    <tr>\n",
       "      <th>2</th>\n",
       "      <td>37</td>\n",
       "      <td>1</td>\n",
       "      <td>Research &amp; Development</td>\n",
       "      <td>2</td>\n",
       "      <td>2</td>\n",
       "      <td>Other</td>\n",
       "      <td>4</td>\n",
       "      <td>3</td>\n",
       "      <td>Single</td>\n",
       "      <td>2090</td>\n",
       "      <td>6</td>\n",
       "      <td>3</td>\n",
       "      <td>0</td>\n",
       "    </tr>\n",
       "    <tr>\n",
       "      <th>3</th>\n",
       "      <td>33</td>\n",
       "      <td>0</td>\n",
       "      <td>Research &amp; Development</td>\n",
       "      <td>3</td>\n",
       "      <td>4</td>\n",
       "      <td>Life Sciences</td>\n",
       "      <td>4</td>\n",
       "      <td>3</td>\n",
       "      <td>Married</td>\n",
       "      <td>2909</td>\n",
       "      <td>1</td>\n",
       "      <td>3</td>\n",
       "      <td>8</td>\n",
       "    </tr>\n",
       "    <tr>\n",
       "      <th>4</th>\n",
       "      <td>27</td>\n",
       "      <td>0</td>\n",
       "      <td>Research &amp; Development</td>\n",
       "      <td>2</td>\n",
       "      <td>1</td>\n",
       "      <td>Medical</td>\n",
       "      <td>1</td>\n",
       "      <td>2</td>\n",
       "      <td>Married</td>\n",
       "      <td>3468</td>\n",
       "      <td>9</td>\n",
       "      <td>3</td>\n",
       "      <td>2</td>\n",
       "    </tr>\n",
       "    <tr>\n",
       "      <th>5</th>\n",
       "      <td>32</td>\n",
       "      <td>0</td>\n",
       "      <td>Research &amp; Development</td>\n",
       "      <td>2</td>\n",
       "      <td>2</td>\n",
       "      <td>Life Sciences</td>\n",
       "      <td>4</td>\n",
       "      <td>4</td>\n",
       "      <td>Single</td>\n",
       "      <td>3068</td>\n",
       "      <td>0</td>\n",
       "      <td>2</td>\n",
       "      <td>7</td>\n",
       "    </tr>\n",
       "    <tr>\n",
       "      <th>6</th>\n",
       "      <td>59</td>\n",
       "      <td>0</td>\n",
       "      <td>Research &amp; Development</td>\n",
       "      <td>3</td>\n",
       "      <td>3</td>\n",
       "      <td>Medical</td>\n",
       "      <td>3</td>\n",
       "      <td>1</td>\n",
       "      <td>Married</td>\n",
       "      <td>2670</td>\n",
       "      <td>4</td>\n",
       "      <td>2</td>\n",
       "      <td>1</td>\n",
       "    </tr>\n",
       "    <tr>\n",
       "      <th>7</th>\n",
       "      <td>30</td>\n",
       "      <td>0</td>\n",
       "      <td>Research &amp; Development</td>\n",
       "      <td>24</td>\n",
       "      <td>1</td>\n",
       "      <td>Life Sciences</td>\n",
       "      <td>4</td>\n",
       "      <td>3</td>\n",
       "      <td>Divorced</td>\n",
       "      <td>2693</td>\n",
       "      <td>1</td>\n",
       "      <td>3</td>\n",
       "      <td>1</td>\n",
       "    </tr>\n",
       "    <tr>\n",
       "      <th>8</th>\n",
       "      <td>38</td>\n",
       "      <td>0</td>\n",
       "      <td>Research &amp; Development</td>\n",
       "      <td>23</td>\n",
       "      <td>3</td>\n",
       "      <td>Life Sciences</td>\n",
       "      <td>4</td>\n",
       "      <td>3</td>\n",
       "      <td>Single</td>\n",
       "      <td>9526</td>\n",
       "      <td>0</td>\n",
       "      <td>3</td>\n",
       "      <td>9</td>\n",
       "    </tr>\n",
       "    <tr>\n",
       "      <th>9</th>\n",
       "      <td>36</td>\n",
       "      <td>0</td>\n",
       "      <td>Research &amp; Development</td>\n",
       "      <td>27</td>\n",
       "      <td>3</td>\n",
       "      <td>Medical</td>\n",
       "      <td>3</td>\n",
       "      <td>3</td>\n",
       "      <td>Married</td>\n",
       "      <td>5237</td>\n",
       "      <td>6</td>\n",
       "      <td>2</td>\n",
       "      <td>7</td>\n",
       "    </tr>\n",
       "  </tbody>\n",
       "</table>\n",
       "</div>"
      ],
      "text/plain": [
       "   Age  Attrition              Department  DistanceFromHome  Education  \\\n",
       "0   41          1                   Sales                 1          2   \n",
       "1   49          0  Research & Development                 8          1   \n",
       "2   37          1  Research & Development                 2          2   \n",
       "3   33          0  Research & Development                 3          4   \n",
       "4   27          0  Research & Development                 2          1   \n",
       "5   32          0  Research & Development                 2          2   \n",
       "6   59          0  Research & Development                 3          3   \n",
       "7   30          0  Research & Development                24          1   \n",
       "8   38          0  Research & Development                23          3   \n",
       "9   36          0  Research & Development                27          3   \n",
       "\n",
       "  EducationField  EnvironmentSatisfaction  JobSatisfaction MaritalStatus  \\\n",
       "0  Life Sciences                        2                4        Single   \n",
       "1  Life Sciences                        3                2       Married   \n",
       "2          Other                        4                3        Single   \n",
       "3  Life Sciences                        4                3       Married   \n",
       "4        Medical                        1                2       Married   \n",
       "5  Life Sciences                        4                4        Single   \n",
       "6        Medical                        3                1       Married   \n",
       "7  Life Sciences                        4                3      Divorced   \n",
       "8  Life Sciences                        4                3        Single   \n",
       "9        Medical                        3                3       Married   \n",
       "\n",
       "   MonthlyIncome  NumCompaniesWorked  WorkLifeBalance  YearsAtCompany  \n",
       "0           5993                   8                1               6  \n",
       "1           5130                   1                3              10  \n",
       "2           2090                   6                3               0  \n",
       "3           2909                   1                3               8  \n",
       "4           3468                   9                3               2  \n",
       "5           3068                   0                2               7  \n",
       "6           2670                   4                2               1  \n",
       "7           2693                   1                3               1  \n",
       "8           9526                   0                3               9  \n",
       "9           5237                   6                2               7  "
      ]
     },
     "execution_count": 87,
     "metadata": {},
     "output_type": "execute_result"
    }
   ],
   "source": [
    "df.head(10)"
   ]
  },
  {
   "cell_type": "code",
   "execution_count": 105,
   "id": "d9f18162",
   "metadata": {},
   "outputs": [
    {
     "data": {
      "text/plain": [
       "0    1\n",
       "1    0\n",
       "2    1\n",
       "3    0\n",
       "4    0\n",
       "Name: Attrition, dtype: int64"
      ]
     },
     "execution_count": 105,
     "metadata": {},
     "output_type": "execute_result"
    }
   ],
   "source": [
    "#building up a Logistic regression model\n",
    "X =df.drop(['Attrition'],axis=1)\n",
    "X.head()\n",
    "\n",
    "Y =df['Attrition']\n",
    "Y.head()"
   ]
  },
  {
   "cell_type": "code",
   "execution_count": 106,
   "id": "f90b6554",
   "metadata": {},
   "outputs": [],
   "source": [
    "df['EducationField'].replace('Life Sciences',1, inplace = True)\n",
    "df['EducationField'].replace('Medical',2, inplace = True)\n",
    "df['EducationField'].replace('Marketing',3, inplace = True)\n",
    "df['EducationField'].replace('Other',4, inplace = True)\n",
    "df['EducationField'].replace('Technical Degree',5, inplace = True)\n",
    "df['EducationField'].replace('Human Resources',6, inplace = True)"
   ]
  },
  {
   "cell_type": "code",
   "execution_count": 90,
   "id": "1520f6c7",
   "metadata": {
    "scrolled": true
   },
   "outputs": [
    {
     "data": {
      "text/plain": [
       "1    606\n",
       "2    464\n",
       "3    159\n",
       "5    132\n",
       "4     82\n",
       "6     27\n",
       "Name: EducationField, dtype: int64"
      ]
     },
     "execution_count": 90,
     "metadata": {},
     "output_type": "execute_result"
    }
   ],
   "source": [
    "df['EducationField'].value_counts()"
   ]
  },
  {
   "cell_type": "code",
   "execution_count": 107,
   "id": "2f8bcd0b",
   "metadata": {},
   "outputs": [],
   "source": [
    "df['Department'].replace('Research & Development',1,inplace = True)\n",
    "df['Department'].replace('Sales',2,inplace = True)\n",
    "df['Department'].replace('Human Resources',3,inplace = True)"
   ]
  },
  {
   "cell_type": "code",
   "execution_count": 93,
   "id": "13d22cc4",
   "metadata": {},
   "outputs": [
    {
     "data": {
      "text/plain": [
       "1    961\n",
       "2    446\n",
       "3     63\n",
       "Name: Department, dtype: int64"
      ]
     },
     "execution_count": 93,
     "metadata": {},
     "output_type": "execute_result"
    }
   ],
   "source": [
    "df['Department'].value_counts()"
   ]
  },
  {
   "cell_type": "code",
   "execution_count": 94,
   "id": "207bad0e",
   "metadata": {},
   "outputs": [
    {
     "data": {
      "text/plain": [
       "Married     673\n",
       "Single      470\n",
       "Divorced    327\n",
       "Name: MaritalStatus, dtype: int64"
      ]
     },
     "execution_count": 94,
     "metadata": {},
     "output_type": "execute_result"
    }
   ],
   "source": [
    "df['MaritalStatus'].value_counts()"
   ]
  },
  {
   "cell_type": "code",
   "execution_count": 108,
   "id": "4dc49e98",
   "metadata": {},
   "outputs": [],
   "source": [
    "df['MaritalStatus'].replace('Married',1,inplace = True)\n",
    "df['MaritalStatus'].replace('Single',2,inplace = True)\n",
    "df['MaritalStatus'].replace('Divorced',3,inplace = True)"
   ]
  },
  {
   "cell_type": "code",
   "execution_count": 109,
   "id": "75f3a96e",
   "metadata": {},
   "outputs": [
    {
     "data": {
      "text/plain": [
       "1    673\n",
       "2    470\n",
       "3    327\n",
       "Name: MaritalStatus, dtype: int64"
      ]
     },
     "execution_count": 109,
     "metadata": {},
     "output_type": "execute_result"
    }
   ],
   "source": [
    "df['MaritalStatus'].value_counts()"
   ]
  },
  {
   "cell_type": "code",
   "execution_count": 119,
   "id": "46c14d85",
   "metadata": {},
   "outputs": [
    {
     "data": {
      "text/plain": [
       "Age                        int64\n",
       "Attrition                  int64\n",
       "Department                 int64\n",
       "DistanceFromHome           int64\n",
       "Education                  int64\n",
       "EducationField             int64\n",
       "EnvironmentSatisfaction    int64\n",
       "JobSatisfaction            int64\n",
       "MaritalStatus              int64\n",
       "MonthlyIncome              int64\n",
       "NumCompaniesWorked         int64\n",
       "WorkLifeBalance            int64\n",
       "YearsAtCompany             int64\n",
       "dtype: object"
      ]
     },
     "execution_count": 119,
     "metadata": {},
     "output_type": "execute_result"
    }
   ],
   "source": [
    "x=df.select_dtypes(include=['int64'])\n",
    "x.dtypes"
   ]
  },
  {
   "cell_type": "code",
   "execution_count": 118,
   "id": "4837c1cf",
   "metadata": {},
   "outputs": [],
   "source": [
    "y= df['Attrition']"
   ]
  },
  {
   "cell_type": "code",
   "execution_count": 112,
   "id": "20250caa",
   "metadata": {},
   "outputs": [
    {
     "data": {
      "text/plain": [
       "0    1\n",
       "1    0\n",
       "2    1\n",
       "3    0\n",
       "4    0\n",
       "Name: Attrition, dtype: int64"
      ]
     },
     "execution_count": 112,
     "metadata": {},
     "output_type": "execute_result"
    }
   ],
   "source": [
    "y.head()"
   ]
  },
  {
   "cell_type": "code",
   "execution_count": 147,
   "id": "1a9f4edf",
   "metadata": {},
   "outputs": [
    {
     "ename": "NameError",
     "evalue": "name 'dmatrices' is not defined",
     "output_type": "error",
     "traceback": [
      "\u001b[1;31m---------------------------------------------------------------------------\u001b[0m",
      "\u001b[1;31mNameError\u001b[0m                                 Traceback (most recent call last)",
      "\u001b[1;32mC:\\Windows\\TEMP/ipykernel_61520/3344504008.py\u001b[0m in \u001b[0;36m<module>\u001b[1;34m\u001b[0m\n\u001b[1;32m----> 1\u001b[1;33m y, x = dmatrices('Attrition ~ Age + Department  +  \\\n\u001b[0m\u001b[0;32m      2\u001b[0m                   \u001b[0mDistanceFromHome\u001b[0m \u001b[1;33m+\u001b[0m \u001b[0mEducation\u001b[0m \u001b[1;33m+\u001b[0m \u001b[0mEducationField\u001b[0m \u001b[1;33m+\u001b[0m \u001b[0mYearsAtCompany\u001b[0m\u001b[0;31m'\u001b[0m\u001b[1;33m,\u001b[0m\u001b[1;33m\u001b[0m\u001b[1;33m\u001b[0m\u001b[0m\n\u001b[0;32m      3\u001b[0m                   df, return_type = \"df\")\n\u001b[0;32m      4\u001b[0m \u001b[0mprint\u001b[0m \u001b[1;33m(\u001b[0m\u001b[0mx\u001b[0m\u001b[1;33m.\u001b[0m\u001b[0mcolumns\u001b[0m\u001b[1;33m)\u001b[0m\u001b[1;33m\u001b[0m\u001b[1;33m\u001b[0m\u001b[0m\n",
      "\u001b[1;31mNameError\u001b[0m: name 'dmatrices' is not defined"
     ]
    }
   ],
   "source": [
    "y, x = dmatrices('Attrition ~ Age + Department  +  \\\n",
    "                  DistanceFromHome + Education + EducationField + YearsAtCompany',\n",
    "                  df, return_type = \"df\")\n",
    "print (x.columns)"
   ]
  },
  {
   "cell_type": "code",
   "execution_count": null,
   "id": "4b4c416b",
   "metadata": {},
   "outputs": [],
   "source": []
  },
  {
   "cell_type": "code",
   "execution_count": 85,
   "id": "bacbb23f",
   "metadata": {},
   "outputs": [
    {
     "data": {
      "image/png": "[encoded data removed]",
      "text/plain": [
       "<Figure size 864x576 with 2 Axes>"
      ]
     },
     "metadata": {
      "needs_background": "light"
     },
     "output_type": "display_data"
    }
   ],
   "source": [
    "corr= df.corr()\n",
    "plt.figure(figsize=(12,8))\n",
    "sns.heatmap(corr);"
   ]
  },
  {
   "cell_type": "code",
   "execution_count": 23,
   "id": "03df152d",
   "metadata": {},
   "outputs": [
    {
     "data": {
      "image/png": "[encoded data removed]",
      "text/plain": [
       "<Figure size 504x504 with 1 Axes>"
      ]
     },
     "metadata": {},
     "output_type": "display_data"
    }
   ],
   "source": [
    "#plot histogram \n",
    "style.use('ggplot')\n",
    "plt.figure(figsize=(7,7))\n",
    "plt.hist(df['Age'],bins=50)\n",
    "plt.xlabel('Age')\n",
    "plt.ylabel('Education')\n",
    "plt.show()"
   ]
  },
  {
   "cell_type": "code",
   "execution_count": 28,
   "id": "87b2d4f9",
   "metadata": {},
   "outputs": [],
   "source": [
    "import matplotlib.pyplot as plt"
   ]
  },
  {
   "cell_type": "code",
   "execution_count": 38,
   "id": "ffdacc62",
   "metadata": {},
   "outputs": [
    {
     "data": {
      "image/png": "[encoded data removed]",
      "text/plain": [
       "<Figure size 432x288 with 1 Axes>"
      ]
     },
     "metadata": {},
     "output_type": "display_data"
    }
   ],
   "source": [
    "sns.kdeplot(df.Age)\n",
    "plt.show()"
   ]
  },
  {
   "cell_type": "code",
   "execution_count": 41,
   "id": "81dced10",
   "metadata": {},
   "outputs": [
    {
     "data": {
      "image/png": "[encoded data removed]",
      "text/plain": [
       "<Figure size 720x360 with 2 Axes>"
      ]
     },
     "metadata": {},
     "output_type": "display_data"
    }
   ],
   "source": [
    "# create subplot plot\n",
    "fig ,a=plt.subplots(1,2,figsize=(10,5))\n",
    "# create bar plot using groupby\n",
    "\n",
    "df.groupby(['Age']).count()['EnvironmentSatisfaction'].plot(kind='bar',ax=a[0])\n",
    "\n",
    "# create count plot\n",
    "# create count plot\n",
    "sns.countplot(x='EnvironmentSatisfaction',data=df,hue='Age',ax=a[1])\n",
    "plt.show()"
   ]
  },
  {
   "cell_type": "code",
   "execution_count": 42,
   "id": "8279d680",
   "metadata": {},
   "outputs": [
    {
     "data": {
      "image/png": "[encoded data removed]",
      "text/plain": [
       "<Figure size 720x360 with 2 Axes>"
      ]
     },
     "metadata": {},
     "output_type": "display_data"
    }
   ],
   "source": [
    "# create subplot plot\n",
    "fig ,a=plt.subplots(1,2,figsize=(10,5))\n",
    "# create bar plot using groupby\n",
    "\n",
    "df.groupby(['EnvironmentSatisfaction']).count()['Age'].plot(kind='bar',ax=a[0])\n",
    "\n",
    "# create count plot\n",
    "# create count plot\n",
    "sns.countplot(x='Age',data=df,hue='EnvironmentSatisfaction',ax=a[1])\n",
    "plt.show()"
   ]
  },
  {
   "cell_type": "code",
   "execution_count": 46,
   "id": "04475122",
   "metadata": {},
   "outputs": [
    {
     "data": {
      "text/plain": [
       "0       Yes\n",
       "1        No\n",
       "2       Yes\n",
       "3        No\n",
       "4        No\n",
       "       ... \n",
       "1465     No\n",
       "1466     No\n",
       "1467     No\n",
       "1468     No\n",
       "1469     No\n",
       "Name: Attrition, Length: 1470, dtype: object"
      ]
     },
     "execution_count": 46,
     "metadata": {},
     "output_type": "execute_result"
    }
   ],
   "source": [
    "df['Attrition']"
   ]
  },
  {
   "cell_type": "code",
   "execution_count": 126,
   "id": "18076527",
   "metadata": {},
   "outputs": [],
   "source": [
    "y = np.ravel(y)"
   ]
  },
  {
   "cell_type": "code",
   "execution_count": 127,
   "id": "c9953017",
   "metadata": {},
   "outputs": [
    {
     "name": "stderr",
     "output_type": "stream",
     "text": [
      "C:\\Users\\SHUBHANGI\\anaconda3\\lib\\site-packages\\sklearn\\linear_model\\_logistic.py:763: ConvergenceWarning: lbfgs failed to converge (status=1):\n",
      "STOP: TOTAL NO. of ITERATIONS REACHED LIMIT.\n",
      "\n",
      "Increase the number of iterations (max_iter) or scale the data as shown in:\n",
      "    https://scikit-learn.org/stable/modules/preprocessing.html\n",
      "Please also refer to the documentation for alternative solver options:\n",
      "    https://scikit-learn.org/stable/modules/linear_model.html#logistic-regression\n",
      "  n_iter_i = _check_optimize_result(\n"
     ]
    },
    {
     "data": {
      "text/plain": [
       "0.9442176870748299"
      ]
     },
     "execution_count": 127,
     "metadata": {},
     "output_type": "execute_result"
    }
   ],
   "source": [
    "from sklearn.linear_model import LogisticRegression\n",
    "\n",
    "model = LogisticRegression()\n",
    "model = model.fit(x,y)\n",
    "\n",
    "#check the accuracy on the training set\n",
    "\n",
    "model.score(x,y)"
   ]
  },
  {
   "cell_type": "code",
   "execution_count": 128,
   "id": "df234ad6",
   "metadata": {},
   "outputs": [
    {
     "data": {
      "text/plain": [
       "0.16122448979591836"
      ]
     },
     "execution_count": 128,
     "metadata": {},
     "output_type": "execute_result"
    }
   ],
   "source": [
    "y.mean()"
   ]
  },
  {
   "cell_type": "code",
   "execution_count": 130,
   "id": "6a59686b",
   "metadata": {},
   "outputs": [
    {
     "name": "stderr",
     "output_type": "stream",
     "text": [
      "C:\\Users\\SHUBHANGI\\anaconda3\\lib\\site-packages\\sklearn\\linear_model\\_logistic.py:763: ConvergenceWarning: lbfgs failed to converge (status=1):\n",
      "STOP: TOTAL NO. of ITERATIONS REACHED LIMIT.\n",
      "\n",
      "Increase the number of iterations (max_iter) or scale the data as shown in:\n",
      "    https://scikit-learn.org/stable/modules/preprocessing.html\n",
      "Please also refer to the documentation for alternative solver options:\n",
      "    https://scikit-learn.org/stable/modules/linear_model.html#logistic-regression\n",
      "  n_iter_i = _check_optimize_result(\n"
     ]
    },
    {
     "data": {
      "text/plain": [
       "LogisticRegression()"
      ]
     },
     "execution_count": 130,
     "metadata": {},
     "output_type": "execute_result"
    }
   ],
   "source": [
    "X_train,X_test,y_train,y_test= sklearn.model_selection.train_test_split(x,y,test_size=0.3,random_state=0)\n",
    "model2= LogisticRegression()\n",
    "model2.fit(X_train, y_train)"
   ]
  },
  {
   "cell_type": "code",
   "execution_count": 131,
   "id": "b5343a65",
   "metadata": {},
   "outputs": [
    {
     "name": "stdout",
     "output_type": "stream",
     "text": [
      "[0 0 1 0 0 0 1 0 0 0 0 1 0 1 0 0 0 0 0 0 0 0 0 0 0 0 0 0 0 0 0 1 0 1 0 0 0\n",
      " 0 0 0 0 0 0 0 0 1 0 0 1 1 0 1 0 0 1 0 0 1 0 0 0 0 0 0 0 0 0 1 0 1 0 0 0 0\n",
      " 0 0 0 0 0 0 0 0 0 0 0 1 0 0 0 0 0 0 0 0 0 0 0 1 0 0 1 1 0 0 0 0 0 0 0 0 0\n",
      " 0 0 0 0 0 0 0 0 0 0 0 0 0 0 0 0 0 0 0 0 1 1 0 0 0 1 0 0 0 0 0 0 0 0 0 0 0\n",
      " 0 1 0 0 0 1 0 0 0 0 0 0 1 0 0 1 0 0 0 0 0 0 0 0 0 0 1 0 0 0 0 0 0 0 0 1 0\n",
      " 1 0 0 0 1 0 1 0 0 0 0 0 0 0 0 0 0 1 0 0 0 0 0 0 0 0 0 0 1 1 0 0 0 0 0 0 0\n",
      " 0 0 0 0 0 0 1 0 0 0 0 0 0 0 0 0 0 0 1 0 0 0 1 0 0 0 0 0 0 0 1 0 0 0 0 0 0\n",
      " 1 0 0 0 0 0 0 0 1 1 0 0 0 0 0 0 0 0 0 0 0 1 0 0 0 0 0 0 0 1 0 0 1 0 0 0 0\n",
      " 0 0 0 0 0 0 0 0 0 0 0 1 0 0 0 0 0 0 0 0 0 0 1 0 1 0 0 1 0 0 0 0 0 0 0 0 0\n",
      " 0 0 0 0 0 0 0 0 1 0 0 0 0 0 0 0 0 0 0 0 0 0 0 0 0 0 0 0 0 0 0 1 0 0 1 0 0\n",
      " 0 0 0 0 1 0 0 0 1 0 0 0 0 0 0 1 0 0 0 0 0 0 0 0 1 0 0 0 0 0 1 0 0 0 0 0 0\n",
      " 1 0 0 1 0 0 0 0 0 0 1 0 0 0 0 1 0 0 0 0 0 0 0 1 0 0 0 0 0 0 0 0 0 0]\n"
     ]
    }
   ],
   "source": [
    "predicted = model2.predict(X_test)\n",
    "print(predicted)"
   ]
  },
  {
   "cell_type": "code",
   "execution_count": 132,
   "id": "23e5af8b",
   "metadata": {},
   "outputs": [
    {
     "name": "stdout",
     "output_type": "stream",
     "text": [
      "[[9.86977852e-01 1.30221481e-02]\n",
      " [9.97869993e-01 2.13000658e-03]\n",
      " [1.92738675e-01 8.07261325e-01]\n",
      " [8.32450582e-01 1.67549418e-01]\n",
      " [8.70258179e-01 1.29741821e-01]\n",
      " [9.89718885e-01 1.02811155e-02]\n",
      " [4.14509081e-02 9.58549092e-01]\n",
      " [9.85669403e-01 1.43305968e-02]\n",
      " [9.99644231e-01 3.55769018e-04]\n",
      " [5.96309542e-01 4.03690458e-01]\n",
      " [9.99541999e-01 4.58000844e-04]\n",
      " [1.03961618e-01 8.96038382e-01]\n",
      " [9.97734512e-01 2.26548779e-03]\n",
      " [2.27482150e-01 7.72517850e-01]\n",
      " [9.39919217e-01 6.00807831e-02]\n",
      " [9.99332724e-01 6.67275963e-04]\n",
      " [9.92513386e-01 7.48661442e-03]\n",
      " [6.98052372e-01 3.01947628e-01]\n",
      " [9.72428051e-01 2.75719490e-02]\n",
      " [7.99779416e-01 2.00220584e-01]\n",
      " [9.82909262e-01 1.70907378e-02]\n",
      " [9.97321623e-01 2.67837728e-03]\n",
      " [9.89404233e-01 1.05957669e-02]\n",
      " [9.99723171e-01 2.76828518e-04]\n",
      " [9.83301231e-01 1.66987687e-02]\n",
      " [7.31519555e-01 2.68480445e-01]\n",
      " [9.80237359e-01 1.97626410e-02]\n",
      " [9.99156749e-01 8.43250923e-04]\n",
      " [9.26902706e-01 7.30972936e-02]\n",
      " [9.29744679e-01 7.02553210e-02]\n",
      " [9.80234574e-01 1.97654262e-02]\n",
      " [2.86953570e-01 7.13046430e-01]\n",
      " [9.74164917e-01 2.58350826e-02]\n",
      " [3.71043876e-01 6.28956124e-01]\n",
      " [9.97510679e-01 2.48932109e-03]\n",
      " [9.94208738e-01 5.79126238e-03]\n",
      " [9.82698071e-01 1.73019295e-02]\n",
      " [9.94808638e-01 5.19136210e-03]\n",
      " [7.67092062e-01 2.32907938e-01]\n",
      " [9.99279909e-01 7.20091012e-04]\n",
      " [9.94375208e-01 5.62479208e-03]\n",
      " [9.94032714e-01 5.96728647e-03]\n",
      " [9.97330532e-01 2.66946766e-03]\n",
      " [9.75575754e-01 2.44242462e-02]\n",
      " [9.95481828e-01 4.51817212e-03]\n",
      " [2.83185284e-01 7.16814716e-01]\n",
      " [9.61789925e-01 3.82100753e-02]\n",
      " [9.99462502e-01 5.37497949e-04]\n",
      " [4.37329573e-02 9.56267043e-01]\n",
      " [3.12383725e-01 6.87616275e-01]\n",
      " [9.95575828e-01 4.42417247e-03]\n",
      " [1.04718300e-02 9.89528170e-01]\n",
      " [8.46596150e-01 1.53403850e-01]\n",
      " [5.52843294e-01 4.47156706e-01]\n",
      " [1.00871708e-01 8.99128292e-01]\n",
      " [9.49723140e-01 5.02768595e-02]\n",
      " [9.99234439e-01 7.65560757e-04]\n",
      " [1.56491713e-02 9.84350829e-01]\n",
      " [9.72389662e-01 2.76103381e-02]\n",
      " [8.01245729e-01 1.98754271e-01]\n",
      " [9.93444123e-01 6.55587727e-03]\n",
      " [9.60222838e-01 3.97771618e-02]\n",
      " [9.73435781e-01 2.65642185e-02]\n",
      " [9.84790199e-01 1.52098012e-02]\n",
      " [8.62292853e-01 1.37707147e-01]\n",
      " [7.12020972e-01 2.87979028e-01]\n",
      " [6.07484921e-01 3.92515079e-01]\n",
      " [8.77253065e-02 9.12274694e-01]\n",
      " [9.89886718e-01 1.01132820e-02]\n",
      " [9.29036487e-04 9.99070964e-01]\n",
      " [9.78424028e-01 2.15759724e-02]\n",
      " [9.90609479e-01 9.39052068e-03]\n",
      " [9.92438233e-01 7.56176719e-03]\n",
      " [9.97598650e-01 2.40134958e-03]\n",
      " [9.90524404e-01 9.47559611e-03]\n",
      " [9.98805917e-01 1.19408275e-03]\n",
      " [9.82573667e-01 1.74263332e-02]\n",
      " [9.99831819e-01 1.68180703e-04]\n",
      " [9.23169871e-01 7.68301292e-02]\n",
      " [9.26926781e-01 7.30732194e-02]\n",
      " [9.97328948e-01 2.67105205e-03]\n",
      " [6.97516499e-01 3.02483501e-01]\n",
      " [7.82426474e-01 2.17573526e-01]\n",
      " [9.94402104e-01 5.59789647e-03]\n",
      " [9.99707343e-01 2.92657115e-04]\n",
      " [3.96444916e-01 6.03555084e-01]\n",
      " [9.99313330e-01 6.86669828e-04]\n",
      " [9.68628562e-01 3.13714377e-02]\n",
      " [9.98327415e-01 1.67258511e-03]\n",
      " [9.93791394e-01 6.20860635e-03]\n",
      " [8.81328952e-01 1.18671048e-01]\n",
      " [9.94340715e-01 5.65928492e-03]\n",
      " [7.98279068e-01 2.01720932e-01]\n",
      " [9.55100612e-01 4.48993884e-02]\n",
      " [9.99235925e-01 7.64075050e-04]\n",
      " [9.85127315e-01 1.48726848e-02]\n",
      " [8.28354250e-01 1.71645750e-01]\n",
      " [1.84025281e-02 9.81597472e-01]\n",
      " [9.89691068e-01 1.03089323e-02]\n",
      " [9.99539164e-01 4.60835841e-04]\n",
      " [5.52939102e-03 9.94470609e-01]\n",
      " [1.15406319e-01 8.84593681e-01]\n",
      " [9.99622664e-01 3.77336211e-04]\n",
      " [9.98921186e-01 1.07881377e-03]\n",
      " [8.41506459e-01 1.58493541e-01]\n",
      " [9.97413572e-01 2.58642757e-03]\n",
      " [9.95074835e-01 4.92516451e-03]\n",
      " [9.94630160e-01 5.36984013e-03]\n",
      " [9.67608679e-01 3.23913205e-02]\n",
      " [8.77716671e-01 1.22283329e-01]\n",
      " [9.07331513e-01 9.26684865e-02]\n",
      " [9.98960648e-01 1.03935236e-03]\n",
      " [9.99113040e-01 8.86960197e-04]\n",
      " [9.26363678e-01 7.36363219e-02]\n",
      " [9.89199072e-01 1.08009283e-02]\n",
      " [9.99046747e-01 9.53252968e-04]\n",
      " [9.99268003e-01 7.31996588e-04]\n",
      " [9.99835404e-01 1.64595647e-04]\n",
      " [9.90490954e-01 9.50904621e-03]\n",
      " [9.98774854e-01 1.22514613e-03]\n",
      " [9.96187463e-01 3.81253672e-03]\n",
      " [9.97295624e-01 2.70437558e-03]\n",
      " [9.88473599e-01 1.15264006e-02]\n",
      " [7.24507958e-01 2.75492042e-01]\n",
      " [9.96563224e-01 3.43677648e-03]\n",
      " [9.82491949e-01 1.75080514e-02]\n",
      " [9.99682582e-01 3.17418250e-04]\n",
      " [9.91724722e-01 8.27527836e-03]\n",
      " [9.95444766e-01 4.55523360e-03]\n",
      " [9.73349017e-01 2.66509827e-02]\n",
      " [9.91741232e-01 8.25876799e-03]\n",
      " [3.00653003e-01 6.99346997e-01]\n",
      " [3.22813853e-01 6.77186147e-01]\n",
      " [9.86331569e-01 1.36684314e-02]\n",
      " [9.99812138e-01 1.87861912e-04]\n",
      " [9.20403045e-01 7.95969548e-02]\n",
      " [1.67931711e-01 8.32068289e-01]\n",
      " [9.72806684e-01 2.71933155e-02]\n",
      " [5.13797160e-01 4.86202840e-01]\n",
      " [9.53593863e-01 4.64061375e-02]\n",
      " [9.61191115e-01 3.88088849e-02]\n",
      " [9.99520886e-01 4.79114421e-04]\n",
      " [9.10822084e-01 8.91779159e-02]\n",
      " [9.99787860e-01 2.12139888e-04]\n",
      " [8.38269221e-01 1.61730779e-01]\n",
      " [5.88396496e-01 4.11603504e-01]\n",
      " [9.99844437e-01 1.55562957e-04]\n",
      " [9.95161098e-01 4.83890162e-03]\n",
      " [9.53585450e-01 4.64145503e-02]\n",
      " [4.05924652e-01 5.94075348e-01]\n",
      " [9.94776357e-01 5.22364305e-03]\n",
      " [9.55471149e-01 4.45288512e-02]\n",
      " [9.08056772e-01 9.19432279e-02]\n",
      " [9.39200040e-02 9.06079996e-01]\n",
      " [9.82737609e-01 1.72623910e-02]\n",
      " [9.98133635e-01 1.86636542e-03]\n",
      " [9.99207712e-01 7.92288145e-04]\n",
      " [9.81480856e-01 1.85191439e-02]\n",
      " [9.64154421e-01 3.58455785e-02]\n",
      " [9.95654580e-01 4.34541976e-03]\n",
      " [4.02990200e-01 5.97009800e-01]\n",
      " [9.98486803e-01 1.51319726e-03]\n",
      " [9.81943557e-01 1.80564426e-02]\n",
      " [1.00240682e-01 8.99759318e-01]\n",
      " [9.99538674e-01 4.61326412e-04]\n",
      " [9.97456151e-01 2.54384881e-03]\n",
      " [9.56677789e-01 4.33222108e-02]\n",
      " [9.93574774e-01 6.42522638e-03]\n",
      " [9.97790087e-01 2.20991311e-03]\n",
      " [9.99919524e-01 8.04760959e-05]\n",
      " [9.94029293e-01 5.97070695e-03]\n",
      " [6.94979679e-01 3.05020321e-01]\n",
      " [9.91077156e-01 8.92284365e-03]\n",
      " [9.97470743e-01 2.52925714e-03]\n",
      " [1.15317063e-01 8.84682937e-01]\n",
      " [9.98837417e-01 1.16258321e-03]\n",
      " [9.96134517e-01 3.86548326e-03]\n",
      " [9.98475658e-01 1.52434153e-03]\n",
      " [9.84137471e-01 1.58625289e-02]\n",
      " [9.95546972e-01 4.45302795e-03]\n",
      " [9.94873839e-01 5.12616052e-03]\n",
      " [9.98301560e-01 1.69843998e-03]\n",
      " [9.98110558e-01 1.88944185e-03]\n",
      " [3.73382094e-02 9.62661791e-01]\n",
      " [9.99761896e-01 2.38103705e-04]\n",
      " [1.92366999e-01 8.07633001e-01]\n",
      " [5.57630893e-01 4.42369107e-01]\n",
      " [6.37121585e-01 3.62878415e-01]\n",
      " [5.77412644e-01 4.22587356e-01]\n",
      " [2.25357048e-01 7.74642952e-01]\n",
      " [9.32238639e-01 6.77613608e-02]\n",
      " [1.38317444e-01 8.61682556e-01]\n",
      " [9.94710592e-01 5.28940790e-03]\n",
      " [9.97651865e-01 2.34813499e-03]\n",
      " [9.99274830e-01 7.25169821e-04]\n",
      " [9.92473559e-01 7.52644082e-03]\n",
      " [9.90166205e-01 9.83379507e-03]\n",
      " [9.75821849e-01 2.41781514e-02]\n",
      " [7.95065296e-01 2.04934704e-01]\n",
      " [9.95716855e-01 4.28314515e-03]\n",
      " [9.56871849e-01 4.31281513e-02]\n",
      " [9.73247379e-01 2.67526213e-02]\n",
      " [4.28157757e-02 9.57184224e-01]\n",
      " [9.85152667e-01 1.48473329e-02]\n",
      " [9.76120495e-01 2.38795046e-02]\n",
      " [9.87646432e-01 1.23535680e-02]\n",
      " [9.90110392e-01 9.88960827e-03]\n",
      " [9.99522899e-01 4.77101447e-04]\n",
      " [7.77998200e-01 2.22001800e-01]\n",
      " [9.81205829e-01 1.87941711e-02]\n",
      " [9.83330641e-01 1.66693586e-02]\n",
      " [9.82301229e-01 1.76987715e-02]\n",
      " [9.53565189e-01 4.64348108e-02]\n",
      " [5.14795225e-03 9.94852048e-01]\n",
      " [2.94835258e-01 7.05164742e-01]\n",
      " [9.97444862e-01 2.55513770e-03]\n",
      " [9.89704612e-01 1.02953877e-02]\n",
      " [9.98415656e-01 1.58434417e-03]\n",
      " [9.99228863e-01 7.71137269e-04]\n",
      " [9.00127287e-01 9.98727129e-02]\n",
      " [9.50825725e-01 4.91742753e-02]\n",
      " [6.01833249e-01 3.98166751e-01]\n",
      " [6.97991143e-01 3.02008857e-01]\n",
      " [9.99533557e-01 4.66443159e-04]\n",
      " [7.12544687e-01 2.87455313e-01]\n",
      " [9.88171373e-01 1.18286265e-02]\n",
      " [9.98949327e-01 1.05067267e-03]\n",
      " [9.77435448e-01 2.25645515e-02]\n",
      " [3.32874319e-02 9.66712568e-01]\n",
      " [9.77246681e-01 2.27533190e-02]\n",
      " [9.99811029e-01 1.88971392e-04]\n",
      " [9.99842971e-01 1.57029154e-04]\n",
      " [9.93026840e-01 6.97315974e-03]\n",
      " [9.98975428e-01 1.02457231e-03]\n",
      " [9.77792732e-01 2.22072678e-02]\n",
      " [9.99286580e-01 7.13420143e-04]\n",
      " [9.40482938e-01 5.95170618e-02]\n",
      " [9.90176598e-01 9.82340239e-03]\n",
      " [8.52202730e-01 1.47797270e-01]\n",
      " [9.99951397e-01 4.86029191e-05]\n",
      " [1.70531149e-01 8.29468851e-01]\n",
      " [9.33779455e-01 6.62205451e-02]\n",
      " [9.98928796e-01 1.07120445e-03]\n",
      " [9.90494917e-01 9.50508346e-03]\n",
      " [2.88351246e-01 7.11648754e-01]\n",
      " [9.99375788e-01 6.24211674e-04]\n",
      " [9.85987318e-01 1.40126815e-02]\n",
      " [9.95938339e-01 4.06166133e-03]\n",
      " [9.95557323e-01 4.44267688e-03]\n",
      " [9.97031774e-01 2.96822570e-03]\n",
      " [9.88854805e-01 1.11451954e-02]\n",
      " [7.77566212e-01 2.22433788e-01]\n",
      " [4.17879332e-02 9.58212067e-01]\n",
      " [9.95812620e-01 4.18737975e-03]\n",
      " [9.99405001e-01 5.94998720e-04]\n",
      " [8.68523970e-01 1.31476030e-01]\n",
      " [9.99932265e-01 6.77352677e-05]\n",
      " [6.30539056e-01 3.69460944e-01]\n",
      " [8.04850619e-01 1.95149381e-01]\n",
      " [6.17982098e-02 9.38201790e-01]\n",
      " [9.61098787e-01 3.89012128e-02]\n",
      " [9.88243311e-01 1.17566890e-02]\n",
      " [9.85487330e-01 1.45126702e-02]\n",
      " [9.96161284e-01 3.83871611e-03]\n",
      " [9.82581881e-01 1.74181193e-02]\n",
      " [9.95204802e-01 4.79519798e-03]\n",
      " [9.98707263e-01 1.29273653e-03]\n",
      " [2.62773242e-01 7.37226758e-01]\n",
      " [9.66380171e-03 9.90336198e-01]\n",
      " [9.93098963e-01 6.90103673e-03]\n",
      " [9.24835943e-01 7.51640570e-02]\n",
      " [9.99571185e-01 4.28815192e-04]\n",
      " [9.79635904e-01 2.03640957e-02]\n",
      " [9.98446212e-01 1.55378780e-03]\n",
      " [7.72322305e-01 2.27677695e-01]\n",
      " [9.92311246e-01 7.68875386e-03]\n",
      " [9.31546129e-01 6.84538711e-02]\n",
      " [9.99081103e-01 9.18896807e-04]\n",
      " [9.94406110e-01 5.59388974e-03]\n",
      " [9.99167695e-01 8.32304501e-04]\n",
      " [5.07037883e-02 9.49296212e-01]\n",
      " [9.99613938e-01 3.86061756e-04]\n",
      " [8.62604804e-01 1.37395196e-01]\n",
      " [8.22269822e-01 1.77730178e-01]\n",
      " [9.99428783e-01 5.71216718e-04]\n",
      " [9.98464666e-01 1.53533383e-03]\n",
      " [9.94860988e-01 5.13901167e-03]\n",
      " [6.71301080e-01 3.28698920e-01]\n",
      " [2.18839124e-01 7.81160876e-01]\n",
      " [9.80817484e-01 1.91825157e-02]\n",
      " [9.98497138e-01 1.50286177e-03]\n",
      " [3.84458424e-01 6.15541576e-01]\n",
      " [9.99819253e-01 1.80747255e-04]\n",
      " [9.80839590e-01 1.91604104e-02]\n",
      " [9.99843402e-01 1.56598399e-04]\n",
      " [9.79831627e-01 2.01683735e-02]\n",
      " [8.07188636e-01 1.92811364e-01]\n",
      " [8.91261720e-01 1.08738280e-01]\n",
      " [6.77443814e-01 3.22556186e-01]\n",
      " [9.99866285e-01 1.33714513e-04]\n",
      " [9.94463705e-01 5.53629491e-03]\n",
      " [9.98433521e-01 1.56647908e-03]\n",
      " [9.96310634e-01 3.68936612e-03]\n",
      " [9.95212125e-01 4.78787456e-03]\n",
      " [9.96842267e-01 3.15773337e-03]\n",
      " [9.99438431e-01 5.61568539e-04]\n",
      " [9.76807717e-01 2.31922826e-02]\n",
      " [4.31113839e-04 9.99568886e-01]\n",
      " [9.95282483e-01 4.71751669e-03]\n",
      " [5.94922400e-01 4.05077600e-01]\n",
      " [9.99565211e-01 4.34789363e-04]\n",
      " [9.97135815e-01 2.86418518e-03]\n",
      " [9.98609248e-01 1.39075226e-03]\n",
      " [9.62762392e-01 3.72376082e-02]\n",
      " [9.91139546e-01 8.86045429e-03]\n",
      " [9.22200295e-01 7.77997052e-02]\n",
      " [9.97556329e-01 2.44367131e-03]\n",
      " [9.65788146e-01 3.42118535e-02]\n",
      " [2.65074474e-01 7.34925526e-01]\n",
      " [9.99317044e-01 6.82955713e-04]\n",
      " [3.73750436e-03 9.96262496e-01]\n",
      " [9.97492274e-01 2.50772595e-03]\n",
      " [8.98286619e-01 1.01713381e-01]\n",
      " [1.63850665e-01 8.36149335e-01]\n",
      " [9.98904445e-01 1.09555494e-03]\n",
      " [9.97641316e-01 2.35868415e-03]\n",
      " [9.75250022e-01 2.47499782e-02]\n",
      " [9.98577761e-01 1.42223925e-03]\n",
      " [9.99862391e-01 1.37609370e-04]\n",
      " [9.88934184e-01 1.10658156e-02]\n",
      " [9.67621734e-01 3.23782658e-02]\n",
      " [9.94759370e-01 5.24062952e-03]\n",
      " [9.99544736e-01 4.55264454e-04]\n",
      " [8.61778706e-01 1.38221294e-01]\n",
      " [9.95816433e-01 4.18356681e-03]\n",
      " [9.79695466e-01 2.03045343e-02]\n",
      " [9.99489732e-01 5.10268286e-04]\n",
      " [9.98970137e-01 1.02986344e-03]\n",
      " [9.70237151e-01 2.97628492e-02]\n",
      " [9.99437505e-01 5.62495027e-04]\n",
      " [9.97214837e-01 2.78516318e-03]\n",
      " [1.53118266e-01 8.46881734e-01]\n",
      " [8.86105490e-01 1.13894510e-01]\n",
      " [6.83096283e-01 3.16903717e-01]\n",
      " [9.92729021e-01 7.27097886e-03]\n",
      " [9.77774006e-01 2.22259940e-02]\n",
      " [9.91735163e-01 8.26483683e-03]\n",
      " [9.89367330e-01 1.06326701e-02]\n",
      " [5.05922532e-01 4.94077468e-01]\n",
      " [9.66286403e-01 3.37135966e-02]\n",
      " [9.97276610e-01 2.72338969e-03]\n",
      " [9.06504960e-01 9.34950403e-02]\n",
      " [9.80694788e-01 1.93052123e-02]\n",
      " [9.93751580e-01 6.24841979e-03]\n",
      " [9.67985781e-01 3.20142187e-02]\n",
      " [9.72190972e-01 2.78090283e-02]\n",
      " [9.89517285e-01 1.04827149e-02]\n",
      " [9.98020080e-01 1.97992049e-03]\n",
      " [9.74910688e-01 2.50893120e-02]\n",
      " [9.99399031e-01 6.00969002e-04]\n",
      " [9.97992074e-01 2.00792590e-03]\n",
      " [8.84939445e-01 1.15060555e-01]\n",
      " [9.79587705e-01 2.04122947e-02]\n",
      " [9.97553519e-01 2.44648089e-03]\n",
      " [3.00933524e-01 6.99066476e-01]\n",
      " [9.94990730e-01 5.00927036e-03]\n",
      " [9.99883438e-01 1.16562117e-04]\n",
      " [4.98118767e-02 9.50188123e-01]\n",
      " [9.99563220e-01 4.36779867e-04]\n",
      " [9.98786919e-01 1.21308127e-03]\n",
      " [9.97925600e-01 2.07439953e-03]\n",
      " [9.38337876e-01 6.16621242e-02]\n",
      " [9.96390054e-01 3.60994601e-03]\n",
      " [9.99948263e-01 5.17368202e-05]\n",
      " [3.15633954e-01 6.84366046e-01]\n",
      " [9.96401006e-01 3.59899410e-03]\n",
      " [9.97198037e-01 2.80196336e-03]\n",
      " [9.99050437e-01 9.49562596e-04]\n",
      " [2.14050055e-01 7.85949945e-01]\n",
      " [9.50337052e-01 4.96629478e-02]\n",
      " [9.93450558e-01 6.54944241e-03]\n",
      " [9.91774101e-01 8.22589948e-03]\n",
      " [9.99396392e-01 6.03608421e-04]\n",
      " [9.99434198e-01 5.65802299e-04]\n",
      " [9.99583289e-01 4.16711403e-04]\n",
      " [1.34852461e-03 9.98651475e-01]\n",
      " [9.98959001e-01 1.04099938e-03]\n",
      " [9.96640907e-01 3.35909333e-03]\n",
      " [9.60479734e-01 3.95202660e-02]\n",
      " [9.85950622e-01 1.40493775e-02]\n",
      " [9.73076623e-01 2.69233767e-02]\n",
      " [8.73078520e-01 1.26921480e-01]\n",
      " [9.38629411e-01 6.13705885e-02]\n",
      " [9.93150232e-01 6.84976751e-03]\n",
      " [4.30287657e-04 9.99569712e-01]\n",
      " [9.54170454e-01 4.58295456e-02]\n",
      " [9.85864532e-01 1.41354683e-02]\n",
      " [9.61789611e-01 3.82103890e-02]\n",
      " [9.99883870e-01 1.16129556e-04]\n",
      " [9.98846068e-01 1.15393182e-03]\n",
      " [1.65453390e-02 9.83454661e-01]\n",
      " [9.52920944e-01 4.70790558e-02]\n",
      " [9.99231196e-01 7.68804185e-04]\n",
      " [9.95482708e-01 4.51729155e-03]\n",
      " [9.89896230e-01 1.01037697e-02]\n",
      " [9.99805149e-01 1.94851319e-04]\n",
      " [9.90458975e-01 9.54102545e-03]\n",
      " [3.86289090e-01 6.13710910e-01]\n",
      " [9.99763036e-01 2.36963625e-04]\n",
      " [9.99562760e-01 4.37239999e-04]\n",
      " [3.07027320e-01 6.92972680e-01]\n",
      " [8.65722957e-01 1.34277043e-01]\n",
      " [9.76965413e-01 2.30345873e-02]\n",
      " [8.99056143e-01 1.00943857e-01]\n",
      " [9.96440562e-01 3.55943770e-03]\n",
      " [9.88339045e-01 1.16609545e-02]\n",
      " [9.83832195e-01 1.61678046e-02]\n",
      " [1.83465196e-01 8.16534804e-01]\n",
      " [9.99741055e-01 2.58944575e-04]\n",
      " [9.98492510e-01 1.50748973e-03]\n",
      " [7.05583556e-01 2.94416444e-01]\n",
      " [9.52647440e-01 4.73525596e-02]\n",
      " [2.03153524e-01 7.96846476e-01]\n",
      " [9.99592356e-01 4.07644225e-04]\n",
      " [9.98979529e-01 1.02047127e-03]\n",
      " [9.85402699e-01 1.45973013e-02]\n",
      " [9.90793958e-01 9.20604214e-03]\n",
      " [9.91762592e-01 8.23740754e-03]\n",
      " [5.06168624e-01 4.93831376e-01]\n",
      " [9.99843989e-01 1.56011004e-04]\n",
      " [3.98424265e-01 6.01575735e-01]\n",
      " [6.82761357e-01 3.17238643e-01]\n",
      " [9.96370624e-01 3.62937588e-03]\n",
      " [8.85993834e-01 1.14006166e-01]\n",
      " [9.21305300e-01 7.86947002e-02]\n",
      " [9.99479210e-01 5.20789607e-04]\n",
      " [9.95458322e-01 4.54167786e-03]\n",
      " [9.96895442e-01 3.10455802e-03]\n",
      " [6.55825964e-01 3.44174036e-01]\n",
      " [9.99283837e-01 7.16163037e-04]\n",
      " [9.99035394e-01 9.64605904e-04]]\n"
     ]
    }
   ],
   "source": [
    "probs = model2.predict_proba(X_test)\n",
    "print(probs)"
   ]
  },
  {
   "cell_type": "code",
   "execution_count": 133,
   "id": "7c82110c",
   "metadata": {},
   "outputs": [
    {
     "name": "stdout",
     "output_type": "stream",
     "text": [
      "0.9319727891156463\n",
      "0.9711590296495957\n"
     ]
    }
   ],
   "source": [
    "from sklearn import metrics\n",
    "\n",
    "print(metrics.accuracy_score(y_test,predicted))\n",
    "print(metrics.roc_auc_score(y_test,probs[:,1]))"
   ]
  },
  {
   "cell_type": "code",
   "execution_count": 134,
   "id": "ce6856e0",
   "metadata": {},
   "outputs": [
    {
     "name": "stdout",
     "output_type": "stream",
     "text": [
      "[[361  10]\n",
      " [ 20  50]]\n",
      "              precision    recall  f1-score   support\n",
      "\n",
      "           0       0.95      0.97      0.96       371\n",
      "           1       0.83      0.71      0.77        70\n",
      "\n",
      "    accuracy                           0.93       441\n",
      "   macro avg       0.89      0.84      0.86       441\n",
      "weighted avg       0.93      0.93      0.93       441\n",
      "\n"
     ]
    }
   ],
   "source": [
    "print(metrics.confusion_matrix(y_test,predicted))\n",
    "print(metrics.classification_report(y_test, predicted))"
   ]
  },
  {
   "cell_type": "code",
   "execution_count": 135,
   "id": "2cb380fd",
   "metadata": {},
   "outputs": [
    {
     "name": "stdout",
     "output_type": "stream",
     "text": [
      "      Age  Attrition  Department  DistanceFromHome  Education  EducationField  \\\n",
      "338    30          0           2                 5          3               3   \n",
      "363    33          1           2                 5          3               3   \n",
      "759    45          0           3                24          4               2   \n",
      "793    28          0           1                15          2               1   \n",
      "581    30          0           1                 1          3               1   \n",
      "...   ...        ...         ...               ...        ...             ...   \n",
      "763    34          0           2                10          4               1   \n",
      "835    35          0           3                 8          4               5   \n",
      "1216   43          0           2                 2          3               2   \n",
      "559    38          0           1                 2          5               2   \n",
      "684    40          0           2                10          4               3   \n",
      "\n",
      "      EnvironmentSatisfaction  JobSatisfaction  MaritalStatus  MonthlyIncome  \\\n",
      "338                         4                3              3           6118   \n",
      "363                         4                3              2           2851   \n",
      "759                         2                2              2           2177   \n",
      "793                         1                3              3           2207   \n",
      "581                         4                3              1           3833   \n",
      "...                       ...              ...            ...            ...   \n",
      "763                         3                3              1           2220   \n",
      "835                         3                3              2           4323   \n",
      "1216                        4                4              1           7847   \n",
      "559                         4                3              1           3057   \n",
      "684                         1                2              3           9705   \n",
      "\n",
      "      NumCompaniesWorked  WorkLifeBalance  YearsAtCompany  \n",
      "338                    1                3              10  \n",
      "363                    1                3               1  \n",
      "759                    1                3               6  \n",
      "793                    1                2               4  \n",
      "581                    3                3               2  \n",
      "...                  ...              ...             ...  \n",
      "763                    1                3               1  \n",
      "835                    1                1               5  \n",
      "1216                   1                3              10  \n",
      "559                    6                1               1  \n",
      "684                    2                2               1  \n",
      "\n",
      "[1029 rows x 13 columns]\n"
     ]
    }
   ],
   "source": [
    "print(X_train)"
   ]
  }
 ],
 "metadata": {
  "kernelspec": {
   "display_name": "Python 3 (ipykernel)",
   "language": "python",
   "name": "python3"
  },
  "language_info": {
   "codemirror_mode": {
    "name": "ipython",
    "version": 3
   },
   "file_extension": ".py",
   "mimetype": "text/x-python",
   "name": "python",
   "nbconvert_exporter": "python",
   "pygments_lexer": "ipython3",
   "version": "3.9.7"
  }
 },
 "nbformat": 4,
 "nbformat_minor": 5
}
